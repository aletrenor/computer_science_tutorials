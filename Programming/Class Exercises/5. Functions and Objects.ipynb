{
  "nbformat": 4,
  "nbformat_minor": 0,
  "metadata": {
    "orig_nbformat": 4,
    "colab": {
      "name": "5. Functions and Objects.ipynb",
      "provenance": []
    },
    "language_info": {
      "name": "python"
    },
    "kernelspec": {
      "name": "python3",
      "display_name": "Python 3"
    }
  },
  "cells": [
    {
      "cell_type": "markdown",
      "metadata": {
        "id": "8kKIzf2Il77W"
      },
      "source": [
        "1. Write down a function that takes a string as a parameter and returns the same string in reverse order."
      ]
    },
    {
      "cell_type": "code",
      "metadata": {
        "id": "ctyBOdAzxbcI",
        "outputId": "9949dab9-e70b-4dce-8705-1e5d22dedfec",
        "colab": {
          "base_uri": "https://localhost:8080/"
        }
      },
      "source": [
        "def function(x):\n",
        "  print(x[::-1])\n",
        "  return\n",
        "\n",
        "\n",
        "function(input(\"\"))\n"
      ],
      "execution_count": 73,
      "outputs": [
        {
          "output_type": "stream",
          "name": "stdout",
          "text": [
            "uff\n",
            "ffu\n"
          ]
        }
      ]
    },
    {
      "cell_type": "markdown",
      "metadata": {
        "id": "ARAyWe9ql77X"
      },
      "source": [
        "2. Write down a function that takes an arbitrary number of strings as parameters and returns the total number of words in all of them"
      ]
    },
    {
      "cell_type": "code",
      "metadata": {
        "id": "w5LIRP9FpKh6"
      },
      "source": [
        "def numb():\n",
        "  \n",
        "\n"
      ],
      "execution_count": 37,
      "outputs": []
    },
    {
      "cell_type": "markdown",
      "metadata": {
        "id": "_c6nPn7pl77X"
      },
      "source": [
        "3. Write down a function named \"array_power\" that takes an arbitrary number of integers, and a named parameter \"base\" with default value 2 and returns the power of the base parameter to the sum of the integers. e.g array_power(1, 2) returns 8 and array_power(1, 1, 1, base=3) returns 27. "
      ]
    },
    {
      "cell_type": "markdown",
      "metadata": {
        "id": "ju25pP0Gl77Y"
      },
      "source": [
        "4. Write down a polygon class that has a property named sizes representing the number of sizes. Write down a class rectangle and a class triangle that extend the polygon class and has a method that returns the area of the polygon."
      ]
    },
    {
      "cell_type": "markdown",
      "metadata": {
        "id": "pK02fy7Ml77Y"
      },
      "source": [
        "5. Write down a class to store personal data of your customers, with properties \"first_name\", and \"family_name\". Implement a method that returns the initials of the customer. "
      ]
    },
    {
      "cell_type": "code",
      "metadata": {
        "id": "JK1uFPMPrrUd",
        "outputId": "58ac1cc5-c41c-4d8e-a146-f14cba2060dc",
        "colab": {
          "base_uri": "https://localhost:8080/"
        }
      },
      "source": [
        "## me falta lo de return la primera inicial\n",
        "\n",
        "\n",
        "def personaldata():\n",
        "  print(\"write your persoanl data\")\n",
        "  a=input(\"-first name: \")\n",
        "  print(a)4\n",
        "  b=input(\"-family name: \")\n",
        "  print(b)\n",
        "print(personaldata())"
      ],
      "execution_count": 37,
      "outputs": [
        {
          "output_type": "stream",
          "name": "stdout",
          "text": [
            "write your persoanl data\n",
            "-first name: alejandro\n",
            "alejandro\n",
            "-family name: trneor+\n",
            "trneor+\n",
            "None\n"
          ]
        }
      ]
    }
  ]
}