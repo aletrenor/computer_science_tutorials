{
  "nbformat": 4,
  "nbformat_minor": 0,
  "metadata": {
    "orig_nbformat": 4,
    "colab": {
      "name": "3. Iterables.ipynb",
      "provenance": []
    },
    "language_info": {
      "name": "python"
    },
    "kernelspec": {
      "name": "python3",
      "display_name": "Python 3"
    }
  },
  "cells": [
    {
      "cell_type": "markdown",
      "metadata": {
        "id": "JfWt3_BgQoiK"
      },
      "source": [
        "1. Create a list where each member is a word of the sentence \"Welcome to Computer Science 101\""
      ]
    },
    {
      "cell_type": "markdown",
      "metadata": {
        "id": "G-s0qMkGQoiL"
      },
      "source": [
        "2. Iterate on the array created above and use indexing in each member to print the first character of each word"
      ]
    },
    {
      "cell_type": "markdown",
      "metadata": {
        "id": "gtg7vH6lQoiM"
      },
      "source": [
        "3. Use the ```in``` operator to determine if the word \"Science\" is in the created list."
      ]
    },
    {
      "cell_type": "markdown",
      "metadata": {
        "id": "CIIgw1lDQoiM"
      },
      "source": [
        "4. Given a string variable of arbitrary length named 'my_string', write down a script to obtain the characters two by two in reverse order."
      ]
    },
    {
      "cell_type": "markdown",
      "metadata": {
        "id": "sNdNKbubQoiM"
      },
      "source": [
        "5. Given two lists containing integers of the same length, obtain another list where the values in even index i is the sum of i-th values of the arrays and the values in odd index j is the substraction of the j-th values of the arrays.  "
      ]
    }
  ]
}