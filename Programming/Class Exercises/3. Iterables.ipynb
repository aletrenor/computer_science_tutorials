{
  "nbformat": 4,
  "nbformat_minor": 0,
  "metadata": {
    "orig_nbformat": 4,
    "colab": {
      "name": "3. Iterables.ipynb",
      "provenance": []
    },
    "language_info": {
      "name": "python"
    },
    "kernelspec": {
      "name": "python3",
      "display_name": "Python 3"
    }
  },
  "cells": [
    {
      "cell_type": "markdown",
      "metadata": {
        "id": "JfWt3_BgQoiK"
      },
      "source": [
        "1. Create a list where each member is a word of the sentence \"Welcome to Computer Science 101\""
      ]
    },
    {
      "cell_type": "code",
      "metadata": {
        "id": "d-FO6oSsQr71",
        "outputId": "b043e140-47f6-433e-fef3-6af15e382a2e",
        "colab": {
          "base_uri": "https://localhost:8080/"
        }
      },
      "source": [
        "xlist = ['welcome', 'to', 'computer', 'science', '101']\n",
        "print(xlist [0])\n",
        "print(xlist [1])\n",
        "print(xlist [2])\n",
        "print(xlist [3])\n",
        "print(xlist [4])\n"
      ],
      "execution_count": 43,
      "outputs": [
        {
          "output_type": "stream",
          "name": "stdout",
          "text": [
            "welcome\n",
            "to\n",
            "computer\n",
            "science\n",
            "101\n"
          ]
        }
      ]
    },
    {
      "cell_type": "markdown",
      "metadata": {
        "id": "G-s0qMkGQoiL"
      },
      "source": [
        "2. Iterate on the array created above and use indexing in each member to print the first character of each word"
      ]
    },
    {
      "cell_type": "code",
      "metadata": {
        "id": "X14CxM2FTdQr"
      },
      "source": [
        "xlist = ['welcome', 'to', 'computer', 'science', '101']\n",
        "print(xlist [0])\n",
        "print(xlist [1])\n",
        "print(xlist [2])\n",
        "print(xlist [3])\n",
        "print(xlist [4])\n"
      ],
      "execution_count": null,
      "outputs": []
    },
    {
      "cell_type": "markdown",
      "metadata": {
        "id": "gtg7vH6lQoiM"
      },
      "source": [
        "3. Use the ```in``` operator to determine if the word \"Science\" is in the created list."
      ]
    },
    {
      "cell_type": "code",
      "metadata": {
        "id": "SSVG7uQVRo5y",
        "outputId": "6339f0b6-e8e3-4811-b766-d6e1f3b55d81",
        "colab": {
          "base_uri": "https://localhost:8080/"
        }
      },
      "source": [
        "listx = ['tu', 'cosas', 'de', 'science']\n",
        "if 'science' in listx:\n",
        "  print(\"Yes, 'listx' found in List : \", listx)\n",
        "if ('') in listx:\n",
        "  print(\"no,'listx' not found in list: \", listx)\n",
        "\n",
        " "
      ],
      "execution_count": 55,
      "outputs": [
        {
          "output_type": "stream",
          "name": "stdout",
          "text": [
            "Yes, 'listx' found in List :  ['tu', 'cosas', 'de', 'science']\n"
          ]
        }
      ]
    },
    {
      "cell_type": "markdown",
      "metadata": {
        "id": "CIIgw1lDQoiM"
      },
      "source": [
        "4. Given a string variable of arbitrary length named 'my_string', write down a script to obtain the characters two by two in reverse order."
      ]
    },
    {
      "cell_type": "markdown",
      "metadata": {
        "id": "sNdNKbubQoiM"
      },
      "source": [
        "5. Given two lists containing integers of the same length, obtain another list where the values in even index i is the sum of i-th values of the arrays and the values in odd index j is the substraction of the j-th values of the arrays.  "
      ]
    },
    {
      "cell_type": "code",
      "metadata": {
        "id": "5V8pF3gDTu4G",
        "outputId": "87045785-f0dc-47c9-be68-23ae6625199a",
        "colab": {
          "base_uri": "https://localhost:8080/"
        }
      },
      "source": [
        "x_list = [1,2,3,4,5,6]\n",
        "y_list = [1,2,3,4,5,6]\n",
        "z_list = x_list + y_list\n",
        "print(z_list)"
      ],
      "execution_count": 45,
      "outputs": [
        {
          "output_type": "stream",
          "name": "stdout",
          "text": [
            "[1, 2, 3, 4, 5, 6, 1, 2, 3, 4, 5, 6]\n"
          ]
        }
      ]
    }
  ]
}